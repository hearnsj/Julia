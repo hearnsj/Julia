{
 "cells": [
  {
   "cell_type": "code",
   "execution_count": 2,
   "metadata": {},
   "outputs": [],
   "source": [
    "using SeisMain\n",
    "using SeisProcessing\n",
    "using SeisReconstruction\n",
    "# using SeisModelling\n",
    "# using SeisImaging\n",
    "using SeisPlot\n"
   ]
  },
  {
   "cell_type": "code",
   "execution_count": 3,
   "metadata": {},
   "outputs": [
    {
     "data": {
      "text/plain": [
       "\"C:\\\\Users\\\\hearn\""
      ]
     },
     "execution_count": 3,
     "metadata": {},
     "output_type": "execute_result"
    }
   ],
   "source": [
    "pwd()"
   ]
  },
  {
   "cell_type": "code",
   "execution_count": 7,
   "metadata": {
    "scrolled": true
   },
   "outputs": [],
   "source": [
    "cd(\"Documents/seisdata\")"
   ]
  },
  {
   "cell_type": "code",
   "execution_count": 8,
   "metadata": {},
   "outputs": [
    {
     "name": "stdout",
     "output_type": "stream",
     "text": [
      "Displaying information for 616_79_PR.seis (1908 traces):\n",
      "       Key          Minimum          Maximum             Mean\n",
      "=============================================================\n",
      "  tracenum            1.000         1908.000          954.500\n",
      "        o1            0.000            0.000            0.000\n",
      "        n1         1500.000         1500.000         1500.000\n",
      "        d1            0.004            0.004            0.004\n",
      "        sx            0.000            0.000            0.000\n",
      "        sy            0.000            0.000            0.000\n",
      "        gx            0.000            0.000            0.000\n",
      "        gy            0.000            0.000            0.000\n",
      "        mx            0.000            0.000            0.000\n",
      "        my            0.000            0.000            0.000\n",
      "        hx            0.000            0.000            0.000\n",
      "        hy            0.000            0.000            0.000\n",
      "         h            0.000            0.000            0.000\n",
      "        az            0.000            0.000            0.000\n",
      "       ang            0.000            0.000            0.000\n",
      "       isx            0.000            0.000            0.000\n",
      "       isy            0.000            0.000            0.000\n",
      "       igx            0.000            0.000            0.000\n",
      "       igy            0.000            0.000            0.000\n",
      "       imx          101.000         2008.000         1054.500\n",
      "       imy            0.000            0.000            0.000\n",
      "       ihx            0.000            0.000            0.000\n",
      "       ihy            0.000            0.000            0.000\n",
      "        ih            0.000            0.000            0.000\n",
      "       iaz            0.000            0.000            0.000\n",
      "      iang            0.000            0.000            0.000\n",
      "     selev            0.000            0.000            0.000\n",
      "     gelev            0.000            0.000            0.000\n",
      "     sstat            0.000            0.000            0.000\n",
      "     gstat            0.000            0.000            0.000\n",
      "      trid            1.000            1.000            1.000\n"
     ]
    }
   ],
   "source": [
    "SeisHeaderInfo(\"616_79_PR.seis\")"
   ]
  },
  {
   "cell_type": "code",
   "execution_count": null,
   "metadata": {},
   "outputs": [],
   "source": []
  }
 ],
 "metadata": {
  "kernelspec": {
   "display_name": "Julia 1.1.0",
   "language": "julia",
   "name": "julia-1.1"
  },
  "language_info": {
   "file_extension": ".jl",
   "mimetype": "application/julia",
   "name": "julia",
   "version": "1.1.0"
  }
 },
 "nbformat": 4,
 "nbformat_minor": 2
}
