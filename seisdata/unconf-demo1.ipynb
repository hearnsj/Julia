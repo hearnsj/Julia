{
 "cells": [
  {
   "cell_type": "code",
   "execution_count": 1,
   "metadata": {},
   "outputs": [
    {
     "name": "stderr",
     "output_type": "stream",
     "text": [
      "┌ Info: Precompiling SeisPlot [00783350-183d-11e9-0ed7-9f3f45823183]\n",
      "└ @ Base loading.jl:1186\n",
      "ERROR: LoadError: InitError: PyError (PyImport_ImportModule\n",
      "\n",
      "The Python package matplotlib could not be found by pyimport. Usually this means\n",
      "that you did not install matplotlib in the Python version being used by PyCall.\n",
      "\n",
      "PyCall is currently configured to use the Python version at:\n",
      "\n",
      "/usr/bin/python3\n",
      "\n",
      "and you should use whatever mechanism you usually use (apt-get, pip, conda,\n",
      "etcetera) to install the Python package containing the matplotlib module.\n",
      "\n",
      "One alternative is to re-configure PyCall to use a different Python\n",
      "version on your system: set ENV[\"PYTHON\"] to the path/name of the python\n",
      "executable you want to use, run Pkg.build(\"PyCall\"), and re-launch Julia.\n",
      "\n",
      "Another alternative is to configure PyCall to use a Julia-specific Python\n",
      "distribution via the Conda.jl package (which installs a private Anaconda\n",
      "Python distribution), which has the advantage that packages can be installed\n",
      "and kept up-to-date via Julia.  As explained in the PyCall documentation,\n",
      "set ENV[\"PYTHON\"]=\"\", run Pkg.build(\"PyCall\"), and re-launch Julia. Then,\n",
      "To install the matplotlib module, you can use `pyimport_conda(\"matplotlib\", PKG)`,\n",
      "where PKG is the Anaconda package the contains the module matplotlib,\n",
      "or alternatively you can use the Conda package directly (via\n",
      "`using Conda` followed by `Conda.add` etcetera).\n",
      "\n",
      ") <class 'ModuleNotFoundError'>\n",
      "ModuleNotFoundError(\"No module named 'matplotlib'\")\n",
      "\n",
      "Stacktrace:\n",
      " [1] pyimport(::String) at /home/hearnsj/.julia/packages/PyCall/ttONZ/src/PyCall.jl:544\n",
      " [2] pyimport_conda(::String, ::String, ::String) at /home/hearnsj/.julia/packages/PyCall/ttONZ/src/PyCall.jl:702\n",
      " [3] pyimport_conda at /home/hearnsj/.julia/packages/PyCall/ttONZ/src/PyCall.jl:701 [inlined]\n",
      " [4] __init__() at /home/hearnsj/.julia/packages/PyPlot/cdCMF/src/init.jl:169\n",
      " [5] _include_from_serialized(::String, ::Array{Any,1}) at ./loading.jl:633\n",
      " [6] _require_search_from_serialized(::Base.PkgId, ::String) at ./loading.jl:713\n",
      " [7] _require(::Base.PkgId) at ./loading.jl:937\n",
      " [8] require(::Base.PkgId) at ./loading.jl:858\n",
      " [9] require(::Module, ::Symbol) at ./loading.jl:853\n",
      " [10] include at ./boot.jl:326 [inlined]\n",
      " [11] include_relative(::Module, ::String) at ./loading.jl:1038\n",
      " [12] include(::Module, ::String) at ./sysimg.jl:29\n",
      " [13] top-level scope at none:2\n",
      " [14] eval at ./boot.jl:328 [inlined]\n",
      " [15] eval(::Expr) at ./client.jl:404\n",
      " [16] top-level scope at ./none:3\n",
      "during initialization of module PyPlot\n",
      "in expression starting at /home/hearnsj/.julia/packages/SeisPlot/9cglW/src/SeisPlot.jl:4\n"
     ]
    },
    {
     "ename": "ErrorException",
     "evalue": "Failed to precompile SeisPlot [00783350-183d-11e9-0ed7-9f3f45823183] to /home/hearnsj/.julia/compiled/v1.1/SeisPlot/MaX9O.ji.",
     "output_type": "error",
     "traceback": [
      "Failed to precompile SeisPlot [00783350-183d-11e9-0ed7-9f3f45823183] to /home/hearnsj/.julia/compiled/v1.1/SeisPlot/MaX9O.ji.",
      "",
      "Stacktrace:",
      " [1] error(::String) at ./error.jl:33",
      " [2] compilecache(::Base.PkgId, ::String) at ./loading.jl:1197",
      " [3] _require(::Base.PkgId) at ./loading.jl:960",
      " [4] require(::Base.PkgId) at ./loading.jl:858",
      " [5] require(::Module, ::Symbol) at ./loading.jl:853",
      " [6] top-level scope at In[1]:4"
     ]
    }
   ],
   "source": [
    "using SeisMain\n",
    "using SeisProcessing\n",
    "using SeisReconstruction\n",
    "# using SeisModelling\n",
    "# using SeisImaging\n",
    "using SeisPlot\n",
    "using PyPlot\n"
   ]
  },
  {
   "cell_type": "code",
   "execution_count": null,
   "metadata": {},
   "outputs": [],
   "source": []
  }
 ],
 "metadata": {
  "kernelspec": {
   "display_name": "Julia 1.1.1",
   "language": "julia",
   "name": "julia-1.1"
  },
  "language_info": {
   "file_extension": ".jl",
   "mimetype": "application/julia",
   "name": "julia",
   "version": "1.1.1"
  }
 },
 "nbformat": 4,
 "nbformat_minor": 2
}
